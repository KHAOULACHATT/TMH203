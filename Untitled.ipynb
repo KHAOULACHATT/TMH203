{
 "cells": [
  {
   "cell_type": "markdown",
   "id": "bc9a7828",
   "metadata": {},
   "source": [
    "# Hafta 1\n",
    "* Platform tanitima\n",
    "* Kaynak tanitim"
   ]
  },
  {
   "cell_type": "code",
   "execution_count": 3,
   "id": "7f5ac2ac",
   "metadata": {},
   "outputs": [
    {
     "name": "stdout",
     "output_type": "stream",
     "text": [
      "dostlar merhaba \n"
     ]
    }
   ],
   "source": [
    "print(\"dostlar merhaba \")"
   ]
  },
  {
   "cell_type": "markdown",
   "id": "0b1fe95c",
   "metadata": {},
   "source": [
    "# 2 Hafta 2 Veri tipleri, degiskenler, kosullar"
   ]
  },
  {
   "cell_type": "markdown",
   "id": "829d7cde",
   "metadata": {},
   "source": [
    "# 2.1 Karakter dizileri (string)"
   ]
  },
  {
   "cell_type": "code",
   "execution_count": 4,
   "id": "cced4c72",
   "metadata": {},
   "outputs": [
    {
     "data": {
      "text/plain": [
       "'Ileri bilgisayar programlama'"
      ]
     },
     "execution_count": 4,
     "metadata": {},
     "output_type": "execute_result"
    }
   ],
   "source": [
    "\"Ileri bilgisayar programlama\""
   ]
  },
  {
   "cell_type": "code",
   "execution_count": 5,
   "id": "4cad8cb8",
   "metadata": {},
   "outputs": [
    {
     "ename": "SyntaxError",
     "evalue": "invalid syntax (1330961126.py, line 1)",
     "output_type": "error",
     "traceback": [
      "\u001b[1;36m  Input \u001b[1;32mIn [5]\u001b[1;36m\u001b[0m\n\u001b[1;33m    Ileri bilgasayar programlama\u001b[0m\n\u001b[1;37m          ^\u001b[0m\n\u001b[1;31mSyntaxError\u001b[0m\u001b[1;31m:\u001b[0m invalid syntax\n"
     ]
    }
   ],
   "source": [
    "Ileri bilgasayar programlama"
   ]
  },
  {
   "cell_type": "code",
   "execution_count": 6,
   "id": "d7d34567",
   "metadata": {},
   "outputs": [
    {
     "data": {
      "text/plain": [
       "' '"
      ]
     },
     "execution_count": 6,
     "metadata": {},
     "output_type": "execute_result"
    }
   ],
   "source": [
    "\"t\"\n",
    "\"\"\n",
    "\" \""
   ]
  },
  {
   "cell_type": "markdown",
   "id": "8e573a46",
   "metadata": {},
   "source": [
    "Python da veri tipi dogrudazn beliritilmez.Stringler "
   ]
  },
  {
   "cell_type": "code",
   "execution_count": 8,
   "id": "1bf16da2",
   "metadata": {},
   "outputs": [
    {
     "data": {
      "text/plain": [
       "'selam muhendislik adaylari'"
      ]
     },
     "execution_count": 8,
     "metadata": {},
     "output_type": "execute_result"
    }
   ],
   "source": [
    "\"selam \"+\"muhendislik adaylari\""
   ]
  },
  {
   "cell_type": "code",
   "execution_count": 9,
   "id": "5f82cc65",
   "metadata": {},
   "outputs": [
    {
     "data": {
      "text/plain": [
       "'www'"
      ]
     },
     "execution_count": 9,
     "metadata": {},
     "output_type": "execute_result"
    }
   ],
   "source": [
    "\"w\"*3"
   ]
  },
  {
   "cell_type": "code",
   "execution_count": 10,
   "id": "740771b8",
   "metadata": {},
   "outputs": [
    {
     "data": {
      "text/plain": [
       "'_________________________'"
      ]
     },
     "execution_count": 10,
     "metadata": {},
     "output_type": "execute_result"
    }
   ],
   "source": [
    "\"_\"*25"
   ]
  },
  {
   "cell_type": "code",
   "execution_count": 11,
   "id": "20167fc0",
   "metadata": {},
   "outputs": [
    {
     "data": {
      "text/plain": [
       "'-------------------------'"
      ]
     },
     "execution_count": 11,
     "metadata": {},
     "output_type": "execute_result"
    }
   ],
   "source": [
    "\"-\"*25"
   ]
  },
  {
   "cell_type": "markdown",
   "id": "f5125d79",
   "metadata": {},
   "source": [
    "## Type ve len fonksiyonlari\n",
    "type: kullanilan verinin veya degislenin tipini verir.\n",
    "<br>\n",
    "len:string uzunlugu verir."
   ]
  },
  {
   "cell_type": "code",
   "execution_count": 12,
   "id": "ad7f9166",
   "metadata": {},
   "outputs": [
    {
     "data": {
      "text/plain": [
       "str"
      ]
     },
     "execution_count": 12,
     "metadata": {},
     "output_type": "execute_result"
    }
   ],
   "source": [
    "type(\"selam\")"
   ]
  },
  {
   "cell_type": "code",
   "execution_count": 13,
   "id": "853ad199",
   "metadata": {},
   "outputs": [
    {
     "data": {
      "text/plain": [
       "str"
      ]
     },
     "execution_count": 13,
     "metadata": {},
     "output_type": "execute_result"
    }
   ],
   "source": [
    "type(\"18+22\")"
   ]
  },
  {
   "cell_type": "code",
   "execution_count": 14,
   "id": "0c9ea049",
   "metadata": {},
   "outputs": [
    {
     "data": {
      "text/plain": [
       "15"
      ]
     },
     "execution_count": 14,
     "metadata": {},
     "output_type": "execute_result"
    }
   ],
   "source": [
    "len(\"merhaba dostlar\")"
   ]
  },
  {
   "cell_type": "markdown",
   "id": "e1c5f38d",
   "metadata": {},
   "source": [
    "## Sayilara giris\n",
    "Python da integer, float ve complex olmak uzere 3 tip sayi vardir. Float sayilar virgule degil, noktayla ayrilir.\n"
   ]
  },
  {
   "cell_type": "code",
   "execution_count": 16,
   "id": "52f0833e",
   "metadata": {},
   "outputs": [
    {
     "data": {
      "text/plain": [
       "complex"
      ]
     },
     "execution_count": 16,
     "metadata": {},
     "output_type": "execute_result"
    }
   ],
   "source": [
    "type(10)\n",
    "type(10.3)\n",
    "type(10+9j)"
   ]
  },
  {
   "cell_type": "code",
   "execution_count": 17,
   "id": "8501e47a",
   "metadata": {},
   "outputs": [
    {
     "data": {
      "text/plain": [
       "4"
      ]
     },
     "execution_count": 17,
     "metadata": {},
     "output_type": "execute_result"
    }
   ],
   "source": [
    "14//3"
   ]
  },
  {
   "cell_type": "code",
   "execution_count": 18,
   "id": "701781e0",
   "metadata": {},
   "outputs": [
    {
     "data": {
      "text/plain": [
       "8"
      ]
     },
     "execution_count": 18,
     "metadata": {},
     "output_type": "execute_result"
    }
   ],
   "source": [
    "2**3"
   ]
  },
  {
   "cell_type": "code",
   "execution_count": 19,
   "id": "52a945e7",
   "metadata": {},
   "outputs": [
    {
     "data": {
      "text/plain": [
       "4.0"
      ]
     },
     "execution_count": 19,
     "metadata": {},
     "output_type": "execute_result"
    }
   ],
   "source": [
    "12/3\n"
   ]
  },
  {
   "cell_type": "code",
   "execution_count": 20,
   "id": "04aa4e6f",
   "metadata": {},
   "outputs": [
    {
     "data": {
      "text/plain": [
       "13"
      ]
     },
     "execution_count": 20,
     "metadata": {},
     "output_type": "execute_result"
    }
   ],
   "source": [
    "5+8"
   ]
  },
  {
   "cell_type": "markdown",
   "id": "e4ca1776",
   "metadata": {},
   "source": [
    "## 2.4 degiskenler"
   ]
  },
  {
   "cell_type": "code",
   "execution_count": 21,
   "id": "e8a1538c",
   "metadata": {},
   "outputs": [],
   "source": [
    "isim=\"mr.brown\""
   ]
  },
  {
   "cell_type": "code",
   "execution_count": 22,
   "id": "d6fd10a1",
   "metadata": {},
   "outputs": [
    {
     "data": {
      "text/plain": [
       "'mr.brown'"
      ]
     },
     "execution_count": 22,
     "metadata": {},
     "output_type": "execute_result"
    }
   ],
   "source": [
    "isim"
   ]
  },
  {
   "cell_type": "markdown",
   "id": "6f76596d",
   "metadata": {},
   "source": [
    "degisken belirleme kurallari \n",
    "*sayi ile baslayamaz \n",
    "*aritmetik isaretlerle baslayamaz ama_ alt cizgi le baslayabilir(+,*,-,/) \n",
    "*bosluk kullanilmaz\n",
    "*ozel kelimlerkullanilmaz (if,for,while,true,false)\n",
    "*buyuk kucuk harf ayrimi vardir\n",
    "*alfabe harfi veya alt cizgi ile baslayabilir\n",
    "*olabildigince tanimlayaci ve okunabilir olmalidir"
   ]
  },
  {
   "cell_type": "code",
   "execution_count": 25,
   "id": "5dbfe323",
   "metadata": {},
   "outputs": [
    {
     "data": {
      "text/plain": [
       "['False',\n",
       " 'None',\n",
       " 'True',\n",
       " '__peg_parser__',\n",
       " 'and',\n",
       " 'as',\n",
       " 'assert',\n",
       " 'async',\n",
       " 'await',\n",
       " 'break',\n",
       " 'class',\n",
       " 'continue',\n",
       " 'def',\n",
       " 'del',\n",
       " 'elif',\n",
       " 'else',\n",
       " 'except',\n",
       " 'finally',\n",
       " 'for',\n",
       " 'from',\n",
       " 'global',\n",
       " 'if',\n",
       " 'import',\n",
       " 'in',\n",
       " 'is',\n",
       " 'lambda',\n",
       " 'nonlocal',\n",
       " 'not',\n",
       " 'or',\n",
       " 'pass',\n",
       " 'raise',\n",
       " 'return',\n",
       " 'try',\n",
       " 'while',\n",
       " 'with',\n",
       " 'yield']"
      ]
     },
     "execution_count": 25,
     "metadata": {},
     "output_type": "execute_result"
    }
   ],
   "source": [
    "import keyword\n",
    "yasaklikelimeler=keyword.kwlist\n",
    "yasaklikelimeler"
   ]
  },
  {
   "cell_type": "code",
   "execution_count": 27,
   "id": "2dacf3e6",
   "metadata": {},
   "outputs": [
    {
     "data": {
      "text/plain": [
       "36"
      ]
     },
     "execution_count": 27,
     "metadata": {},
     "output_type": "execute_result"
    }
   ],
   "source": [
    "import keyword\n",
    "yasaklikelimeler=keyword.kwlist\n",
    "len(yasaklikelimeler)\n"
   ]
  },
  {
   "cell_type": "code",
   "execution_count": null,
   "id": "21bf1cb5",
   "metadata": {},
   "outputs": [],
   "source": [
    "import keyword\n",
    "yasaklikelimeler=keyword.kwlist\n",
    "yasaklikelimeler"
   ]
  },
  {
   "cell_type": "markdown",
   "id": "e539e7d8",
   "metadata": {},
   "source": [
    "### 2.4.1 bazi ipuclar"
   ]
  },
  {
   "cell_type": "code",
   "execution_count": 28,
   "id": "11809812",
   "metadata": {},
   "outputs": [],
   "source": [
    "a=b=c=5"
   ]
  },
  {
   "cell_type": "code",
   "execution_count": 29,
   "id": "fa1e49e4",
   "metadata": {},
   "outputs": [],
   "source": [
    "a=\"yazilim\"\n",
    "b=\"donanim\"\n",
    "gecici=a\n",
    "a=b\n",
    "b=gecici\n",
    "\n",
    "a,b=b,a\n"
   ]
  },
  {
   "cell_type": "code",
   "execution_count": 30,
   "id": "1a3e7040",
   "metadata": {},
   "outputs": [
    {
     "data": {
      "text/plain": [
       "27"
      ]
     },
     "execution_count": 30,
     "metadata": {},
     "output_type": "execute_result"
    }
   ],
   "source": [
    "3**3"
   ]
  },
  {
   "cell_type": "markdown",
   "id": "5c4da811",
   "metadata": {},
   "source": [
    "### 2.4.2 basit uygulamalar"
   ]
  },
  {
   "cell_type": "raw",
   "id": "c5524b56",
   "metadata": {},
   "source": [
    " ortalama bulama"
   ]
  },
  {
   "cell_type": "code",
   "execution_count": 32,
   "id": "28320fa3",
   "metadata": {},
   "outputs": [
    {
     "data": {
      "text/plain": [
       "62.0"
      ]
     },
     "execution_count": 32,
     "metadata": {},
     "output_type": "execute_result"
    }
   ],
   "source": [
    "vize=50\n",
    "final=70\n",
    "ortalama=vize*0.4+final*0.6\n",
    "ortalama"
   ]
  },
  {
   "cell_type": "code",
   "execution_count": 33,
   "id": "e1f57c6c",
   "metadata": {},
   "outputs": [
    {
     "data": {
      "text/plain": [
       "78.5"
      ]
     },
     "execution_count": 33,
     "metadata": {},
     "output_type": "execute_result"
    }
   ],
   "source": [
    "r=5\n",
    "pi=3.14\n",
    "alan=pi*(r**2)\n",
    "alan"
   ]
  },
  {
   "cell_type": "code",
   "execution_count": 34,
   "id": "034f7f84",
   "metadata": {},
   "outputs": [
    {
     "data": {
      "text/plain": [
       "31.400000000000002"
      ]
     },
     "execution_count": 34,
     "metadata": {},
     "output_type": "execute_result"
    }
   ],
   "source": [
    "r=5\n",
    "pi=3.14\n",
    "cevre=2*pi*r\n",
    "cevre"
   ]
  },
  {
   "cell_type": "markdown",
   "id": "c0c3b4e1",
   "metadata": {},
   "source": [
    "## print fonksiyonu\n",
    "degerleri ekrana veya dosyaya yazmaya saglayan fonksiyondur. sap ve and parametresi cok kullanilir default olarak \"\" olarakbelirlenmistir."
   ]
  },
  {
   "cell_type": "code",
   "execution_count": 36,
   "id": "9b9acba1",
   "metadata": {},
   "outputs": [
    {
     "name": "stdout",
     "output_type": "stream",
     "text": [
      "merhabalar\n"
     ]
    }
   ],
   "source": [
    "print(\"merhabalar\")"
   ]
  },
  {
   "cell_type": "code",
   "execution_count": 37,
   "id": "0eab7c7c",
   "metadata": {},
   "outputs": [
    {
     "name": "stdout",
     "output_type": "stream",
     "text": [
      "the sum is : 15\n"
     ]
    }
   ],
   "source": [
    "print(\"the sum is :\",10+5)"
   ]
  },
  {
   "cell_type": "markdown",
   "id": "b9cdc1ba",
   "metadata": {},
   "source": [
    "tek tirnak (''),cift tirnak(\"\")veya uclu tirnak (\"''\")kullanabilir"
   ]
  },
  {
   "cell_type": "code",
   "execution_count": 39,
   "id": "9a59b4ff",
   "metadata": {},
   "outputs": [
    {
     "name": "stdout",
     "output_type": "stream",
     "text": [
      "karabuk in \n"
     ]
    }
   ],
   "source": [
    "print('karabuk in ')"
   ]
  },
  {
   "cell_type": "code",
   "execution_count": 43,
   "id": "d57423f7",
   "metadata": {},
   "outputs": [
    {
     "name": "stdout",
     "output_type": "stream",
     "text": [
      "\n",
      "GAME OVER !\n",
      "        \n",
      "INSERT COIN\n",
      "\n",
      "\n"
     ]
    }
   ],
   "source": [
    "print('''\n",
    "GAME OVER !\n",
    "        \n",
    "INSERT COIN\n",
    "\n",
    "''')"
   ]
  },
  {
   "cell_type": "markdown",
   "id": "391fcad8",
   "metadata": {},
   "source": [
    "## input fonksiyonu\n",
    "konsol ekraninda kullanicidan bilgi almak icin kullnilir .string tipinde veri dondurur"
   ]
  },
  {
   "cell_type": "code",
   "execution_count": 42,
   "id": "c4188d7c",
   "metadata": {},
   "outputs": [
    {
     "name": "stdout",
     "output_type": "stream",
     "text": [
      "ismeniz nedir :khaoula\n",
      "merhaba khaoula\n"
     ]
    }
   ],
   "source": [
    "islem=input('ismeniz nedir :')\n",
    "print('merhaba', islem)"
   ]
  },
  {
   "cell_type": "markdown",
   "id": "277d687b",
   "metadata": {},
   "source": [
    "## 2.8 format metodu "
   ]
  },
  {
   "cell_type": "code",
   "execution_count": 44,
   "id": "54a849b1",
   "metadata": {},
   "outputs": [
    {
     "ename": "NameError",
     "evalue": "name 'derece' is not defined",
     "output_type": "error",
     "traceback": [
      "\u001b[1;31m---------------------------------------------------------------------------\u001b[0m",
      "\u001b[1;31mNameError\u001b[0m                                 Traceback (most recent call last)",
      "Input \u001b[1;32mIn [44]\u001b[0m, in \u001b[0;36m<cell line: 1>\u001b[1;34m()\u001b[0m\n\u001b[1;32m----> 1\u001b[0m \u001b[38;5;28mprint\u001b[39m(\u001b[38;5;124m'\u001b[39m\u001b[38;5;124mbugun hava ()derece() ve \u001b[39m\u001b[38;5;124m'\u001b[39m, \u001b[38;5;28mformat\u001b[39m (\u001b[43mderece\u001b[49m,durum) )\n",
      "\u001b[1;31mNameError\u001b[0m: name 'derece' is not defined"
     ]
    }
   ],
   "source": [
    "print('bugun hava ()derece() ve ', format (derece,durum) )"
   ]
  },
  {
   "cell_type": "markdown",
   "id": "8e39c96c",
   "metadata": {},
   "source": [
    "## 2.9 karsilastirma operatorler ve kosullar\n",
    "|operator|anlami| \n",
    "|--------|------|\n",
    "|< | kucuktur|\n",
    "|= | esit|\n",
    "\n",
    "\n",
    ". if \n",
    ". elif\n",
    ". else"
   ]
  },
  {
   "cell_type": "code",
   "execution_count": 1,
   "id": "cbf1c66c",
   "metadata": {},
   "outputs": [
    {
     "name": "stdout",
     "output_type": "stream",
     "text": [
      "bir sayi giriniz:5\n",
      "sayi positive\n"
     ]
    }
   ],
   "source": [
    "sayi= int(input('bir sayi giriniz:'))\n",
    "if sayi>0:\n",
    "    print('sayi positive')\n",
    "elif sayi<0:\n",
    "    print('sayi negative')\n",
    "else:\n",
    "    print('sayi=0')\n",
    "        "
   ]
  },
  {
   "cell_type": "code",
   "execution_count": 3,
   "id": "c967fe22",
   "metadata": {},
   "outputs": [
    {
     "name": "stdout",
     "output_type": "stream",
     "text": [
      "birinci kenar giriniz:20\n",
      "ikinci kenar giriniz: 10\n",
      "3 kenar :  22.360679774997898\n"
     ]
    }
   ],
   "source": [
    "a=int(input('birinci kenar giriniz:'))\n",
    "b=int(input('ikinci kenar giriniz: '))\n",
    "c=((a**2+b**2))**(1/2)\n",
    "print('3 kenar : ',c)"
   ]
  },
  {
   "cell_type": "code",
   "execution_count": 11,
   "id": "87641897",
   "metadata": {},
   "outputs": [
    {
     "name": "stdout",
     "output_type": "stream",
     "text": [
      "vize giriniz:20\n",
      "final giriniz:30\n",
      "odev giriniz:90\n",
      "kaldiniz\n"
     ]
    }
   ],
   "source": [
    "a=int(input('vize giriniz:'))\n",
    "b=int(input('final giriniz:'))\n",
    "c=int(input('odev giriniz:'))\n",
    "ortalama=(a*0.3+b*0.5+c*0.2)\n",
    "if b < 50 :\n",
    "    print('kaldiniz')\n",
    "elif ortalama<50 :\n",
    "    print('kaldiniz')\n",
    "else :\n",
    "    print('gecersiniz')\n"
   ]
  },
  {
   "cell_type": "code",
   "execution_count": 16,
   "id": "fe6914c6",
   "metadata": {},
   "outputs": [
    {
     "name": "stdout",
     "output_type": "stream",
     "text": [
      "birinci sayi giriniz:2\n",
      "ikinci sayi giriniz:2\n",
      "a esit b\n"
     ]
    }
   ],
   "source": [
    "a=int(input('birinci sayi giriniz:'))\n",
    "b=int(input('ikinci sayi giriniz:'))\n",
    "if a<b :\n",
    "    print('a b dan daha kucuk ')\n",
    "elif  a>b:\n",
    "    print('a b dan daha buyuk   ')\n",
    "else  :\n",
    "    print ('a = b')\n",
    "    \n",
    "        "
   ]
  },
  {
   "cell_type": "markdown",
   "id": "c53df0cf",
   "metadata": {},
   "source": [
    "## Aritmetik operatorler\n",
    "* '+' toplam\n",
    "* '*'carpma\n",
    "* '/'bolme\n",
    "* '-'cikarma\n",
    "* '**' mod\n",
    "* '//'taban bolme\n"
   ]
  },
  {
   "cell_type": "markdown",
   "id": "87f776cd",
   "metadata": {},
   "source": [
    "## bool operatorler\n",
    "herhangi bir ifade true yada false olmasini \n"
   ]
  },
  {
   "cell_type": "code",
   "execution_count": 17,
   "id": "e301e09f",
   "metadata": {},
   "outputs": [
    {
     "data": {
      "text/plain": [
       "False"
      ]
     },
     "execution_count": 17,
     "metadata": {},
     "output_type": "execute_result"
    }
   ],
   "source": [
    "5<3"
   ]
  },
  {
   "cell_type": "code",
   "execution_count": 22,
   "id": "64e2527a",
   "metadata": {
    "scrolled": true
   },
   "outputs": [
    {
     "name": "stdout",
     "output_type": "stream",
     "text": [
      "kullanci adiniz giriniz:   KHAOULA\n",
      "merci\n"
     ]
    }
   ],
   "source": [
    "a=input('kullanci adiniz giriniz:   ')\n",
    "if bool(a) == True:\n",
    "    print('merci')\n",
    "else :\n",
    "    print('desolee')"
   ]
  },
  {
   "cell_type": "code",
   "execution_count": 25,
   "id": "a727a169",
   "metadata": {},
   "outputs": [
    {
     "name": "stdout",
     "output_type": "stream",
     "text": [
      "kullanci adiniz giriniz:   khaoula\n",
      "sifre giriniz:   kha12\n",
      "merci  khaoula tu peux entrer\n"
     ]
    }
   ],
   "source": [
    "a=input('kullanci adiniz giriniz:   ')\n",
    "b=input('sifre giriniz:   ')\n",
    "if not a or not b:\n",
    "    print('bos birakmayin ')\n",
    "elif a== 'khaoula' and b==\"kha12\":\n",
    "    print('merci ',a, 'tu peux entrer')\n",
    "else :\n",
    "    print('c faux')\n",
    "    \n"
   ]
  },
  {
   "cell_type": "markdown",
   "id": "086a9535",
   "metadata": {},
   "source": [
    "## Aitlik operatoru"
   ]
  },
  {
   "cell_type": "code",
   "execution_count": 28,
   "id": "092b25d6",
   "metadata": {},
   "outputs": [
    {
     "data": {
      "text/plain": [
       "False"
      ]
     },
     "execution_count": 28,
     "metadata": {},
     "output_type": "execute_result"
    }
   ],
   "source": [
    "a='khaoula'\n",
    "'z' in a"
   ]
  },
  {
   "cell_type": "code",
   "execution_count": null,
   "id": "a8845356",
   "metadata": {},
   "outputs": [],
   "source": []
  }
 ],
 "metadata": {
  "kernelspec": {
   "display_name": "Python 3 (ipykernel)",
   "language": "python",
   "name": "python3"
  },
  "language_info": {
   "codemirror_mode": {
    "name": "ipython",
    "version": 3
   },
   "file_extension": ".py",
   "mimetype": "text/x-python",
   "name": "python",
   "nbconvert_exporter": "python",
   "pygments_lexer": "ipython3",
   "version": "3.9.12"
  }
 },
 "nbformat": 4,
 "nbformat_minor": 5
}
