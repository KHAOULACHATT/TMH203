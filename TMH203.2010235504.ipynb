{
 "cells": [
  {
   "cell_type": "markdown",
   "id": "e74a15b1",
   "metadata": {},
   "source": [
    "#                     HOMEWORK 1"
   ]
  },
  {
   "cell_type": "markdown",
   "id": "b2d72506",
   "metadata": {},
   "source": [
    "## EXERCICE 1:\n",
    "* In PHYSICS, the KINETIC ENERGY of an object is the energy that is possesses due to its motion. it is defined at the Work needed to accelerate a body of a given mass from rest to its stated velocity .Having gained this energy during its acceleration , the body maintains this kinetic energy unless its speed changes. the same amount of work is done by the body when decelerating from its current speed to a state of rest .Formally,a kinetic energy is any term in a system's Langrangian which includes a derivative with respect to time. \n",
    "* The kinetic energy of an object of mass m (in kg )moving at speed v(in m/s)is given by the formula : E= 1/2*m*(v^2) \n"
   ]
  },
  {
   "cell_type": "markdown",
   "id": "9d017557",
   "metadata": {},
   "source": [
    "*   WE WILL WRITE IN PYTHON LANGUAGE A PROGRAM THAT DISPLAYS THE KINETIC ENERGY ( E ) TO THE USER ."
   ]
  },
  {
   "cell_type": "code",
   "execution_count": 16,
   "id": "6107e6e3",
   "metadata": {},
   "outputs": [
    {
     "name": "stdout",
     "output_type": "stream",
     "text": [
      "enter the mass m of the object in kg : 12\n",
      "enter the speed v of the object in m/s : 5.6\n",
      "the kinetic energy of the object is : E= 188.15999999999997 joule\n"
     ]
    }
   ],
   "source": [
    "mass=float(input('enter the mass m of the object in kg : '))\n",
    "speed=float(input('enter the speed v of the object in m/s : '))\n",
    "kineticenergy=(1/2)*mass*(speed**2)\n",
    "print('the kinetic energy of the object is : E=',kineticenergy,'joule')"
   ]
  },
  {
   "cell_type": "markdown",
   "id": "37f44ec3",
   "metadata": {},
   "source": [
    "\n",
    "\n",
    "\n",
    "\n",
    "\n",
    "\n",
    "\n",
    "\n",
    "\n",
    "\n",
    "\n",
    "## EXERCICE 2:"
   ]
  },
  {
   "cell_type": "markdown",
   "id": "3e47f581",
   "metadata": {},
   "source": [
    "* THE BODY MASS INDEX is a convenient rule of thumb used to broadly categorize a person as underweight, normal weight, overweight, or obese based on tissue mass (muscle, fat, and bone) and height. Major adult BMI classifications are: \n",
    "** underweight(severe thinness) (under 16 kg/m2)\n",
    "** underweight(moderate thinness) (16.0 to 16.9 kg/m2)\n",
    "** underweight(mild thinness) (17.0 to 18.4 kg/m2)\n",
    "** normal weight (18.5 to 24.9 kg/m2 )\n",
    "** overweight (pre-obese) (25.0 to 29.9 kg/m2)\n",
    "** obese ( class1) (30.0 to 34.9 kg/m2).\n",
    "** obese( class2) (35.0 to 39.9 kg/m2).\n",
    "** obese( class3) (40 kg/m2 or more)."
   ]
  },
  {
   "cell_type": "markdown",
   "id": "0f5caabc",
   "metadata": {},
   "source": [
    " When used to predict an individual's health, rather than as a statistical measurement for groups, the BMI has limitations that can make it less useful than some of the alternatives, especially when applied to individuals with abdominal obesity, short stature, or unusually high muscle mass.\n",
    "* THE BMI is a real number used in medecine . Its formula is for a mass in kilos and a height in meters :\n",
    "            BMI=mass/(height^2)"
   ]
  },
  {
   "cell_type": "markdown",
   "id": "eb886725",
   "metadata": {},
   "source": [
    "*   WE WILL WRITE IN PYTHON LANGUAGE A PROGRAM THAT DISPLAYS YOUR BMI AND YOUR CATEGORY ."
   ]
  },
  {
   "cell_type": "code",
   "execution_count": 21,
   "id": "33901d74",
   "metadata": {},
   "outputs": [
    {
     "name": "stdout",
     "output_type": "stream",
     "text": [
      "enter your mass in kilos : 68\n",
      "enter your heith in meters : 1.69\n",
      "your body mass index BMI is :  23.80869017191275 kg/m2 ; and your category is :normal weight\n"
     ]
    }
   ],
   "source": [
    "mass=float(input('enter your mass in kilos : '))\n",
    "height=float(input('enter your heith in meters : '))\n",
    "BMI=mass/(height**2)\n",
    "if BMI<16:\n",
    "    print('your body mass index BMI is : ',BMI,'kg/m2 ; and your category is :underweight(severe thinness) ')\n",
    "elif BMI>16.0 and BMI<16.9:\n",
    "    print('your body mass index BMI is : ',BMI,'kg/m2 ; and your category is :underweight(moderate thinness')\n",
    "elif BMI>17.0 and BMI<18.4:\n",
    "      print('your body mass index BMI is : ',BMI,'kg/m2 ; and your category is :underweight(mild thinness)')\n",
    "elif BMI>18.5 and BMI<24.9:\n",
    "      print('your body mass index BMI is : ',BMI,'kg/m2 ; and your category is :normal weight')\n",
    "elif BMI>25.0 and BMI<29.9:\n",
    "      print('your body mass index BMI is : ',BMI,'kg/m2 ; and your category is :overweight (pre-obese)')\n",
    "elif BMI>30.0 and BMI<34.9:\n",
    "      print('your body mass index BMI is : ',BMI,'kg/m2 ; and your category is :obese( class1')\n",
    "elif BMI>35.0 and BMI<39.9:\n",
    "      print('your body mass index BMI is : ',BMI,'kg/m2 ; and your category is :obese( class2')\n",
    "elif BMI>=40:\n",
    "      print('your body mass index BMI is : ',BMI,'kg/m2 ; and your category is :obese( class3)')\n",
    "else:\n",
    "    print('you dont enter any information , please try again. ')\n"
   ]
  },
  {
   "cell_type": "markdown",
   "id": "7b8fb856",
   "metadata": {},
   "source": [
    "\n",
    "\n",
    "\n",
    "\n",
    "\n",
    "\n",
    "\n",
    "\n",
    "\n",
    "## EXERCICE 3:"
   ]
  },
  {
   "cell_type": "markdown",
   "id": "c8329d40",
   "metadata": {},
   "source": [
    "* A root of a polynomial P(z) is a number z_i such that P(z_i)=0. The fundamental theorem of algebra states that a polynomial P(z) of degree n has n roots, some of which may be degenerate. For example, the roots of the polynomial\n",
    "x^3-2x^2-x+2=(x-2)(x-1)(x+1) are -1, 1, and 2. Finding roots of a polynomial is therefore equivalent to polynomial factorization into factors of degree 1.\n",
    " * In this part we are going to solve just a polynominal of 2nd degree : \n",
    " A second degree polynomial, also referred as a quadratic equation can be expressed as below:\n",
    "ax2 + bx + c = 0\n",
    "\n",
    "to solve the equation we can use the quadratic formulas as shown below:\n",
    "\n",
    "x1 = (-b + (b2-4ac)1/2)/2a\n",
    "x2 = (-b - (b2-4ac)1/2)/2a\n",
    "\n",
    "a quadratic equation has two solutions when b2-4ac > 0\n",
    "\n",
    "a quadratic equation has only one solution when b2-4ac = 0\n",
    "\n",
    "a quadratic equation has no solution when b2-4ac < 0\n",
    "\n",
    "* Example (1 solutions)\n",
    "3x2 + 6x + 3 = 0\n",
    "\n",
    "b2-4ac = 62-4 x 3 x 3 = 0, thus we can conclude that there only exists one solution\n",
    "\n",
    "x = -b/2a = -1\n",
    "\n",
    "* Example (2 solutions)\n",
    "2x2 + 6x + 1 = 0\n",
    "\n",
    "b2-4ac = 62-4 x 2 x 1 = 28, since 28 > 0, we can conclude that there exists two solutions\n",
    "\n",
    "x1 = (-b + (b2-4ac)1/2)/2a = -0.177\n",
    "x2 = (-b - (b2-4ac)1/2)/2a = -2.822"
   ]
  },
  {
   "cell_type": "markdown",
   "id": "87107198",
   "metadata": {},
   "source": [
    "* WE WILL WRITE IN PYTHON LANGUAGE A PROGRAM THAT DISPLAYS THE ROOTS OF A 2ND DEGREE POLYNOMAIL"
   ]
  },
  {
   "cell_type": "code",
   "execution_count": 29,
   "id": "cfdc4fc1",
   "metadata": {},
   "outputs": [
    {
     "name": "stdout",
     "output_type": "stream",
     "text": [
      "we will write your polynome in the following form : ax2 + bx + c \n",
      "enter the value of a : 2\n",
      "enter the value of b : 6\n",
      "enter the value of c : 1\n",
      "your polynome has two solutions :  -0.17712434446770464 and -2.8228756555322954\n"
     ]
    }
   ],
   "source": [
    "print ('we will write your polynome in the following form : ax2 + bx + c ')\n",
    "a=int(input('enter the value of a : '))\n",
    "b=int(input('enter the value of b : '))\n",
    "c=int(input('enter the value of c : '))\n",
    "delta=(b**2)-(4*a*c)\n",
    "if delta>0:\n",
    "    x1=(-b+((delta)**(1/2)))/(2*a)\n",
    "    x2=(-b-((delta)**(1/2)))/(2*a)\n",
    "    print('your polynome has two solutions : ',x1,'and',x2)\n",
    "elif delta<0:\n",
    "    print('your polynome has no solution ')\n",
    "elif delta==0:\n",
    "    x=-b/(2*a)\n",
    "    print('your polynome has only one solution :',x)\n",
    "else:\n",
    "    print('you dont enter any information , please try again. ')\n",
    "    "
   ]
  },
  {
   "cell_type": "code",
   "execution_count": null,
   "id": "7a9e9603",
   "metadata": {},
   "outputs": [],
   "source": []
  }
 ],
 "metadata": {
  "kernelspec": {
   "display_name": "Python 3 (ipykernel)",
   "language": "python",
   "name": "python3"
  },
  "language_info": {
   "codemirror_mode": {
    "name": "ipython",
    "version": 3
   },
   "file_extension": ".py",
   "mimetype": "text/x-python",
   "name": "python",
   "nbconvert_exporter": "python",
   "pygments_lexer": "ipython3",
   "version": "3.9.12"
  }
 },
 "nbformat": 4,
 "nbformat_minor": 5
}
